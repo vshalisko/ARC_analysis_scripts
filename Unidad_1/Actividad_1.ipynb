{
  "nbformat": 4,
  "nbformat_minor": 0,
  "metadata": {
    "colab": {
      "provenance": [],
      "authorship_tag": "ABX9TyOI7s8fXAkFO/pEptTh60CW",
      "include_colab_link": true
    },
    "kernelspec": {
      "name": "python3",
      "display_name": "Python 3"
    },
    "language_info": {
      "name": "python"
    }
  },
  "cells": [
    {
      "cell_type": "markdown",
      "metadata": {
        "id": "view-in-github",
        "colab_type": "text"
      },
      "source": [
        "<a href=\"https://colab.research.google.com/github/vshalisko/ARC_analysis_scripts/blob/master/Unidad_1/Actividad_1.ipynb\" target=\"_parent\"><img src=\"https://colab.research.google.com/assets/colab-badge.svg\" alt=\"Open In Colab\"/></a>"
      ]
    },
    {
      "cell_type": "markdown",
      "source": [
        "##### Curso: **Análisis y visualización de datos con Python en la nube**\n",
        "## Actividad 1. Configuración del Entorno de trabajo Google Colab\n",
        "#### Viacheslav Shalisko.\n",
        "* Campus: CUCBA\n",
        "* Fecha: 10 de septiembre 2025"
      ],
      "metadata": {
        "id": "yZF7lIHYP6O1"
      }
    },
    {
      "cell_type": "code",
      "source": [
        "import datetime\n",
        "\n",
        "# Hora (Tiempo universal coordinado, UTC) y fecha\n",
        "now = datetime.datetime.now()\n",
        "print(f\"Fecha y hora (UTC): {now.strftime('%Y-%m-%d %H:%M')}\")"
      ],
      "metadata": {
        "colab": {
          "base_uri": "https://localhost:8080/"
        },
        "id": "eD0jMtt1Qo0e",
        "outputId": "6f47e5d2-d426-4f4e-d675-bdc02c8d151b"
      },
      "execution_count": 1,
      "outputs": [
        {
          "output_type": "stream",
          "name": "stdout",
          "text": [
            "Fecha y hora (UTC): 2025-09-11 01:40\n"
          ]
        }
      ]
    },
    {
      "cell_type": "markdown",
      "source": [
        "Respuesta a la pregunta:  *¿Cual es su opinión sobre el potencial de uso de Python en su trabajo académico o en la investigación?*\n",
        "\n",
        "Python puede ser util para mi investigación para realizar el tratamiento de datos de los registros de biodiversidad, secuencias genéticas y todo la información cuantitativa que puedo tener en mis proyectos."
      ],
      "metadata": {
        "id": "ei_fsnrmQYs0"
      }
    },
    {
      "cell_type": "code",
      "source": [
        "\n",
        "import sys\n",
        "import platform\n",
        "\n",
        "# Versión de Python\n",
        "print(f\"Versión de Python: {sys.version}\")\n",
        "\n",
        "# Parámetros del entorno de ejecución (ejemplo con algunas variables de entorno)\n",
        "print(\"\\nParámetros del entorno de ejecución:\")\n",
        "print(f\"Sistema Operativo: {platform.system()}\")\n",
        "print(f\"Nombre del nodo: {platform.node()}\")\n",
        "print(f\"Arquitectura: {platform.architecture()}\")\n",
        "print(f\"Procesador: {platform.processor()}\")"
      ],
      "metadata": {
        "colab": {
          "base_uri": "https://localhost:8080/"
        },
        "id": "AL2eBy_zO8CH",
        "outputId": "3a5f40e2-9b3d-42dd-96f2-50043a73cbe5"
      },
      "execution_count": 2,
      "outputs": [
        {
          "output_type": "stream",
          "name": "stdout",
          "text": [
            "Versión de Python: 3.12.11 (main, Jun  4 2025, 08:56:18) [GCC 11.4.0]\n",
            "\n",
            "Parámetros del entorno de ejecución:\n",
            "Sistema Operativo: Linux\n",
            "Nombre del nodo: 20586bcc3f4c\n",
            "Arquitectura: ('64bit', 'ELF')\n",
            "Procesador: x86_64\n"
          ]
        }
      ]
    }
  ]
}